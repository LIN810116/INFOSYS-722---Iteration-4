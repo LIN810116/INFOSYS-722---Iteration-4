{
 "cells": [
  {
   "cell_type": "markdown",
   "metadata": {},
   "source": [
    "# Iteration 4:  Marine Life Distribution\n",
    "\n",
    "Author: Chinchien Lin\n",
    "UPI: clin864\n",
    "Email: clin864@aucklanduni.ac.nz\n",
    "Student ID: 938149604\n",
    "GitHub: https://github.com/LIN810116/INFOSYS-722---Iteration-4"
   ]
  },
  {
   "cell_type": "markdown",
   "metadata": {},
   "source": [
    "### Import"
   ]
  },
  {
   "cell_type": "code",
   "execution_count": 1,
   "metadata": {},
   "outputs": [],
   "source": [
    "# Section must be included at the beginning of each new notebook. Remember to change the app name. \n",
    "# If you're using VirtualBox, change the below to '/home/user/spark-2.1.1-bin-hadoop2.7'\n",
    "import findspark\n",
    "findspark.init('/home/ubuntu/spark-2.1.1-bin-hadoop2.7')\n",
    "import pyspark\n",
    "from pyspark.sql import SparkSession\n",
    "spark = SparkSession.builder.appName('basics').getOrCreate()\n",
    "import pandas\n",
    "from pyspark.sql.functions import lit\n",
    "from pyspark.sql.functions import abs\n",
    "from pyspark.sql.types import DoubleType\n",
    "from pyspark.sql.types import IntegerType\n",
    "from pyspark.sql.types import BooleanType\n",
    "from pyspark.sql.functions import regexp_replace\n",
    "\n",
    "#Import dataset\n",
    "    #inferSchema: for CSV\n",
    "df = spark.read.csv('marineLife(I4).csv',header=True,inferSchema=True)"
   ]
  },
  {
   "cell_type": "markdown",
   "metadata": {},
   "source": [
    "# Data understanding"
   ]
  },
  {
   "cell_type": "code",
   "execution_count": 2,
   "metadata": {},
   "outputs": [
    {
     "name": "stdout",
     "output_type": "stream",
     "text": [
      "Number of Row: 5634\n",
      "+----------+-----------+-----------------+---------------+-----------------+-------------+--------------------+---------+---------+\n",
      "| SpeciesID|      Class|            Order|         Family|            Genus|      Species|    Scientific names|WMostLong|EMostLong|\n",
      "+----------+-----------+-----------------+---------------+-----------------+-------------+--------------------+---------+---------+\n",
      "| Fis-29581|Actinopteri|      Perciformes|   Acanthuridae|       Acanthurus|    monroviae|Acanthurus monroviae|       NA|       NA|\n",
      "| Fis-26602|Actinopteri|Pleuronectiformes|      Achiridae|        Trinectes|  paulistanus|Trinectes paulist...|      -55|      -30|\n",
      "| Fis-27804|Actinopteri|Pleuronectiformes|      Achiridae|          Achirus|   mazatlanus|  Achirus mazatlanus|     -120|      -70|\n",
      "| Fis-28886|Actinopteri|Pleuronectiformes|      Achiridae|        Trinectes|   fimbriatus|Trinectes fimbriatus|       NA|       NA|\n",
      "| Fis-28885|Actinopteri|Pleuronectiformes|      Achiridae|          Achirus|       scutum|      Achirus scutum|       NA|       NA|\n",
      "| Fis-28883|Actinopteri|Pleuronectiformes|      Achiridae|          Achirus|  klunzingeri| Achirus klunzingeri|       NA|       NA|\n",
      "| Fis-28888|Actinopteri|Pleuronectiformes|      Achiridae|        Trinectes|  fonsecensis|Trinectes fonsece...|       NA|       NA|\n",
      "| Fis-25037|Actinopteri|Pleuronectiformes|      Achiridae|        Trinectes|    maculatus| Trinectes maculatus|      -79|      -74|\n",
      "|Fis-115342|Actinopteri|Pleuronectiformes|      Achiridae|      Gymnachirus|        melas|   Gymnachirus melas|      -98|      -73|\n",
      "| Fis-28887|Actinopteri|Pleuronectiformes|      Achiridae|        Trinectes|  fluviatilis|Trinectes fluviat...|       NA|       NA|\n",
      "|Fis-133769|Actinopteri|Pleuronectiformes|Achiropsettidae|      Mancopsetta|     maculata|Mancopsetta maculata|       NA|       NA|\n",
      "| Fis-32200|Actinopteri|Pleuronectiformes|Achiropsettidae|     Achiropsetta|  tricholepis|Achiropsetta tric...|     -180|      180|\n",
      "| Fis-32203|Actinopteri|Pleuronectiformes|Achiropsettidae|Pseudomancopsetta|  andriashevi|Pseudomancopsetta...|       NA|       NA|\n",
      "| Fis-58742|Actinopteri| Acipenseriformes|  Acipenseridae|        Acipenser|   oxyrinchus|Acipenser oxyrinchus|     -102|      -33|\n",
      "| Fis-32981|Actinopteri| Acipenseriformes|  Acipenseridae|        Acipenser|     sinensis|  Acipenser sinensis|      -97|      132|\n",
      "| Fis-29594|Actinopteri| Acipenseriformes|  Acipenseridae|        Acipenser|transmontanus|Acipenser transmo...|     -163|     -107|\n",
      "| Fis-29585|Actinopteri| Acipenseriformes|  Acipenseridae|        Acipenser| brevirostrum|Acipenser breviro...|      -82|      -65|\n",
      "| Fis-29588|Actinopteri| Acipenseriformes|  Acipenseridae|        Acipenser|  medirostris|Acipenser mediros...|     -166|     -114|\n",
      "| Fis-33633|Actinopteri| Acipenseriformes|  Acipenseridae|        Acipenser|      mikadoi|   Acipenser mikadoi|      125|      145|\n",
      "| Fis-29593|Actinopteri| Acipenseriformes|  Acipenseridae|        Acipenser|       sturio|    Acipenser sturio|      -25|       42|\n",
      "+----------+-----------+-----------------+---------------+-----------------+-------------+--------------------+---------+---------+\n",
      "only showing top 20 rows\n",
      "\n"
     ]
    }
   ],
   "source": [
    "print(\"Number of Row:\", df.count())\n",
    "df.show()"
   ]
  },
  {
   "cell_type": "code",
   "execution_count": 3,
   "metadata": {},
   "outputs": [
    {
     "name": "stdout",
     "output_type": "stream",
     "text": [
      "root\n",
      " |-- SpeciesID: string (nullable = true)\n",
      " |-- Class: string (nullable = true)\n",
      " |-- Order: string (nullable = true)\n",
      " |-- Family: string (nullable = true)\n",
      " |-- Genus: string (nullable = true)\n",
      " |-- Species: string (nullable = true)\n",
      " |-- Scientific names: string (nullable = true)\n",
      " |-- WMostLong: string (nullable = true)\n",
      " |-- EMostLong: string (nullable = true)\n",
      "\n"
     ]
    }
   ],
   "source": [
    "# data structure \n",
    "df.printSchema()"
   ]
  },
  {
   "cell_type": "code",
   "execution_count": 4,
   "metadata": {},
   "outputs": [
    {
     "name": "stdout",
     "output_type": "stream",
     "text": [
      "+-------+---------+------------+----------------+------------+-------------+-------+--------------------+-----------------+------------------+\n",
      "|summary|SpeciesID|       Class|           Order|      Family|        Genus|Species|    Scientific names|        WMostLong|         EMostLong|\n",
      "+-------+---------+------------+----------------+------------+-------------+-------+--------------------+-----------------+------------------+\n",
      "|  count|     5631|        5631|            5631|        5631|         5631|   5631|                5631|             5631|              5631|\n",
      "|   mean|     null|        null|            null|        null|         null|   null|                null|-17.3216218097304|-2.333721291123526|\n",
      "| stddev|     null|        null|            null|        null|         null|   null|                null| 93.1836869615287|114.34758239286916|\n",
      "|    min|Fis-10312| Actinopteri|Acipenseriformes|Acanthuridae|    Abalistes|abaster| Abalistes stellaris|               -1|                -1|\n",
      "|    max| Fis-9837|Petromyzonti|       Zeiformes|   Zoarcidae|Zosterisessor| zysron|Zosterisessor oph...|               NA|                NA|\n",
      "+-------+---------+------------+----------------+------------+-------------+-------+--------------------+-----------------+------------------+\n",
      "\n"
     ]
    }
   ],
   "source": [
    "# get general statistics \n",
    "df.describe().show()"
   ]
  },
  {
   "cell_type": "code",
   "execution_count": 5,
   "metadata": {},
   "outputs": [
    {
     "name": "stdout",
     "output_type": "stream",
     "text": [
      "+-------+-----------------+------------------+\n",
      "|summary|        WMostLong|         EMostLong|\n",
      "+-------+-----------------+------------------+\n",
      "|  count|             5631|              5631|\n",
      "|   mean|-17.3216218097304|-2.333721291123526|\n",
      "| stddev| 93.1836869615287|114.34758239286916|\n",
      "|    min|               -1|                -1|\n",
      "|    max|               NA|                NA|\n",
      "+-------+-----------------+------------------+\n",
      "\n"
     ]
    }
   ],
   "source": [
    "# get general statistics of longitude features\n",
    "df.select('WMostLong', 'EMostLong').describe().show()"
   ]
  },
  {
   "cell_type": "code",
   "execution_count": 6,
   "metadata": {},
   "outputs": [
    {
     "name": "stdout",
     "output_type": "stream",
     "text": [
      "Number of unique value:\n",
      "Class: 7\n",
      "Order: 58\n",
      "Order: 355\n",
      "Genus: 1812\n",
      "Species: 3961\n",
      "Scientific names: 5632\n"
     ]
    }
   ],
   "source": [
    "# check unique value\n",
    "print(\"Number of unique value:\")\n",
    "print(\"Class:\", df.select('Class').distinct().count())\n",
    "print(\"Order:\", df.select('Order').distinct().count())\n",
    "print(\"Order:\", df.select('Family').distinct().count())\n",
    "print(\"Genus:\", df.select('Genus').distinct().count())\n",
    "print(\"Species:\", df.select('Species').distinct().count())\n",
    "print(\"Scientific names:\", df.select('Scientific names').distinct().count())"
   ]
  },
  {
   "cell_type": "code",
   "execution_count": 7,
   "metadata": {},
   "outputs": [
    {
     "name": "stdout",
     "output_type": "stream",
     "text": [
      "+--------------+-----+\n",
      "|         Class|count|\n",
      "+--------------+-----+\n",
      "|Elasmobranchii|  472|\n",
      "|          null|    3|\n",
      "|   Actinopteri| 5127|\n",
      "|        Myxini|    7|\n",
      "|   Holocephali|   18|\n",
      "|   Coelacanthi|    1|\n",
      "|  Petromyzonti|    6|\n",
      "+--------------+-----+\n",
      "\n"
     ]
    }
   ],
   "source": [
    "# for example: Class\n",
    "df.groupBy('Class').count().show()"
   ]
  },
  {
   "cell_type": "code",
   "execution_count": 8,
   "metadata": {},
   "outputs": [
    {
     "data": {
      "text/plain": [
       "SpeciesID           3\n",
       "Class               3\n",
       "Order               3\n",
       "Family              3\n",
       "Genus               3\n",
       "Species             3\n",
       "Scientific names    3\n",
       "WMostLong           3\n",
       "EMostLong           3\n",
       "dtype: int64"
      ]
     },
     "execution_count": 8,
     "metadata": {},
     "output_type": "execute_result"
    }
   ],
   "source": [
    "# Check missing value\n",
    "pd = df.toPandas()\n",
    "pd.isnull().sum()"
   ]
  },
  {
   "cell_type": "code",
   "execution_count": 9,
   "metadata": {},
   "outputs": [
    {
     "name": "stdout",
     "output_type": "stream",
     "text": [
      "Number of NA values in WMostLong:  2404\n",
      "Number of NA values in EMostLong:  2409\n"
     ]
    }
   ],
   "source": [
    "# Check \"NA\"\n",
    "NA_W = df.filter(\"WMostLong == 'NA'\").count()\n",
    "NA_E = df.filter(\"EMostLong == 'NA'\").count()\n",
    "print(\"Number of NA values in WMostLong: \", NA_W)\n",
    "print(\"Number of NA values in EMostLong: \", NA_E)"
   ]
  },
  {
   "cell_type": "code",
   "execution_count": 10,
   "metadata": {},
   "outputs": [
    {
     "name": "stdout",
     "output_type": "stream",
     "text": [
      "Number of NA values in WMostLong and EMostLong:  2402\n"
     ]
    }
   ],
   "source": [
    "# Check \"NA\": East and Eest\n",
    "NA_WE = df.filter(\"WMostLong == 'NA' and EMostLong == 'NA'\").count()\n",
    "print(\"Number of NA values in WMostLong and EMostLong: \", NA_WE)"
   ]
  },
  {
   "cell_type": "code",
   "execution_count": 11,
   "metadata": {},
   "outputs": [
    {
     "name": "stdout",
     "output_type": "stream",
     "text": [
      "Outliers of WMostLong: 0\n",
      "Outliers of EMostLong: 0\n"
     ]
    }
   ],
   "source": [
    "# Check outliers\n",
    "outliersW = df.filter(\"WMostLong > 180 or WMostLong < -180\").count()\n",
    "outliersE = df.filter(\"EMostLong > 180 or EMostLong < -180\").count()\n",
    "print(\"Outliers of WMostLong:\", outliersW)\n",
    "print(\"Outliers of EMostLong:\", outliersE)"
   ]
  },
  {
   "cell_type": "markdown",
   "metadata": {},
   "source": [
    "# Data Preparation"
   ]
  },
  {
   "cell_type": "code",
   "execution_count": 12,
   "metadata": {},
   "outputs": [
    {
     "name": "stdout",
     "output_type": "stream",
     "text": [
      "+-----------+-----------------+------------+---------+---------+\n",
      "|      Class|            Order|      Family|WMostLong|EMostLong|\n",
      "+-----------+-----------------+------------+---------+---------+\n",
      "|Actinopteri|      Perciformes|Acanthuridae|       NA|       NA|\n",
      "|Actinopteri|Pleuronectiformes|   Achiridae|      -55|      -30|\n",
      "|Actinopteri|Pleuronectiformes|   Achiridae|     -120|      -70|\n",
      "|Actinopteri|Pleuronectiformes|   Achiridae|       NA|       NA|\n",
      "|Actinopteri|Pleuronectiformes|   Achiridae|       NA|       NA|\n",
      "|Actinopteri|Pleuronectiformes|   Achiridae|       NA|       NA|\n",
      "|Actinopteri|Pleuronectiformes|   Achiridae|       NA|       NA|\n",
      "|Actinopteri|Pleuronectiformes|   Achiridae|      -79|      -74|\n",
      "|Actinopteri|Pleuronectiformes|   Achiridae|      -98|      -73|\n",
      "|Actinopteri|Pleuronectiformes|   Achiridae|       NA|       NA|\n",
      "+-----------+-----------------+------------+---------+---------+\n",
      "only showing top 10 rows\n",
      "\n"
     ]
    }
   ],
   "source": [
    "# select useful parameters\n",
    "df_pre = df.select('Class', 'Order', 'Family', 'WMostLong', 'EMostLong')\n",
    "df_pre.show(10)"
   ]
  },
  {
   "cell_type": "code",
   "execution_count": 13,
   "metadata": {},
   "outputs": [
    {
     "name": "stdout",
     "output_type": "stream",
     "text": [
      "Number of Row: 3220\n",
      "Check null values:\n"
     ]
    },
    {
     "data": {
      "text/plain": [
       "Class        0\n",
       "Order        0\n",
       "Family       0\n",
       "WMostLong    0\n",
       "EMostLong    0\n",
       "dtype: int64"
      ]
     },
     "metadata": {},
     "output_type": "display_data"
    }
   ],
   "source": [
    "# remove the rows which has nulls in WMostLong and EMostLong\n",
    "df_pre = df_pre.filter(\"WMostLong != '' and WMostLong != 'NA' and EMostLong != '' and EMostLong != 'NA'\")\n",
    "#filling missing values\n",
    "df_pre = df_pre.na.fill('Unknown', subset=['Class', 'Order', 'Family'])\n",
    "\n",
    "print(\"Number of Row:\", df_pre.count())\n",
    "# Check missing value\n",
    "pd_pre = df_pre.toPandas()\n",
    "print(\"Check null values:\")\n",
    "display(pd_pre.isnull().sum())"
   ]
  },
  {
   "cell_type": "code",
   "execution_count": 14,
   "metadata": {
    "scrolled": false
   },
   "outputs": [
    {
     "data": {
      "text/plain": [
       "Class        0\n",
       "Order        0\n",
       "Family       0\n",
       "WMostLong    0\n",
       "EMostLong    0\n",
       "dtype: int64"
      ]
     },
     "execution_count": 14,
     "metadata": {},
     "output_type": "execute_result"
    }
   ],
   "source": [
    "#filling missing values\n",
    "df_pre = df_pre.na.fill('Unknown', subset=['Class', 'Order', 'Family'])\n",
    "# Check missing value\n",
    "pd_pre = df_pre.toPandas()\n",
    "pd_pre.isnull().sum()"
   ]
  },
  {
   "cell_type": "code",
   "execution_count": 15,
   "metadata": {},
   "outputs": [],
   "source": [
    "# remove outliers\n",
    "df_pre = df_pre.filter(\"WMostLong < 180 and WMostLong > -180\")\n",
    "df_pre = df_pre.filter(\"EMostLong < 180 and EMostLong > -180\")"
   ]
  },
  {
   "cell_type": "markdown",
   "metadata": {},
   "source": [
    "### Create new columns"
   ]
  },
  {
   "cell_type": "code",
   "execution_count": 16,
   "metadata": {},
   "outputs": [
    {
     "name": "stdout",
     "output_type": "stream",
     "text": [
      "Number of Row: 3021\n",
      "+-----------+-----------------+-------------+---------+---------+--------+-----+------+\n",
      "|      Class|            Order|       Family|WMostLong|EMostLong|Coverage|Level|isWide|\n",
      "+-----------+-----------------+-------------+---------+---------+--------+-----+------+\n",
      "|Actinopteri|Pleuronectiformes|    Achiridae|    -55.0|    -30.0|    25.0|    0|     0|\n",
      "|Actinopteri|Pleuronectiformes|    Achiridae|   -120.0|    -70.0|    50.0|    1|     0|\n",
      "|Actinopteri|Pleuronectiformes|    Achiridae|    -79.0|    -74.0|     5.0|    0|     0|\n",
      "|Actinopteri|Pleuronectiformes|    Achiridae|    -98.0|    -73.0|    25.0|    0|     0|\n",
      "|Actinopteri| Acipenseriformes|Acipenseridae|   -102.0|    -33.0|    69.0|    2|     0|\n",
      "|Actinopteri| Acipenseriformes|Acipenseridae|    -97.0|    132.0|   229.0|    7|     1|\n",
      "|Actinopteri| Acipenseriformes|Acipenseridae|   -163.0|   -107.0|    56.0|    1|     0|\n",
      "|Actinopteri| Acipenseriformes|Acipenseridae|    -82.0|    -65.0|    17.0|    0|     0|\n",
      "|Actinopteri| Acipenseriformes|Acipenseridae|   -166.0|   -114.0|    52.0|    1|     0|\n",
      "|Actinopteri| Acipenseriformes|Acipenseridae|    125.0|    145.0|    20.0|    0|     0|\n",
      "|Actinopteri| Acipenseriformes|Acipenseridae|    -25.0|     42.0|    67.0|    2|     0|\n",
      "|Actinopteri| Acipenseriformes|Acipenseridae|     17.0|     60.0|    43.0|    1|     0|\n",
      "|Actinopteri| Acipenseriformes|Acipenseridae|     26.0|     54.0|    28.0|    0|     0|\n",
      "|Actinopteri| Acipenseriformes|Acipenseridae|     14.0|     53.0|    39.0|    1|     0|\n",
      "|Actinopteri| Acipenseriformes|Acipenseridae|     22.0|     54.0|    32.0|    1|     0|\n",
      "|Actinopteri| Acipenseriformes|Acipenseridae|     10.0|     20.0|    10.0|    0|     0|\n",
      "|Actinopteri|      Perciformes|Acropomatidae|     99.0|    155.0|    56.0|    1|     0|\n",
      "|Actinopteri|      Perciformes|Acropomatidae|    -19.0|     15.0|    34.0|    1|     0|\n",
      "|Actinopteri|      Perciformes|Acropomatidae|     19.0|   -154.0|   173.0|    5|     0|\n",
      "|Actinopteri|      Perciformes|Acropomatidae|    -93.0|     14.0|   107.0|    3|     0|\n",
      "+-----------+-----------------+-------------+---------+---------+--------+-----+------+\n",
      "only showing top 20 rows\n",
      "\n"
     ]
    }
   ],
   "source": [
    "# converting the data type for EMostLong and WMostLong\n",
    "df_pre = df_pre.withColumn(\"EMostLong\", df_pre.EMostLong.cast(DoubleType()))\n",
    "df_pre = df_pre.withColumn(\"WMostLong\", df_pre.WMostLong.cast(DoubleType()))\n",
    "# Create new columns\n",
    "# Coverage\n",
    "df_pre = df_pre.withColumn(\"Coverage\", abs(df_pre.EMostLong - df_pre.WMostLong))\n",
    "# Level\n",
    "df_pre = df_pre.withColumn(\"Level\", lit(df_pre.Coverage / 30))\n",
    "df_pre = df_pre.withColumn(\"Level\", df_pre.Level.cast(IntegerType()))\n",
    "#isWide\n",
    "df_pre = df_pre.withColumn(\"isWide\", lit(df_pre.Coverage / 180))\n",
    "df_pre = df_pre.withColumn(\"isWide\", df_pre.isWide.cast(IntegerType()))\n",
    "\n",
    "print(\"Number of Row:\", df_pre.count())\n",
    "df_pre.show()"
   ]
  },
  {
   "cell_type": "code",
   "execution_count": 17,
   "metadata": {},
   "outputs": [
    {
     "name": "stdout",
     "output_type": "stream",
     "text": [
      "root\n",
      " |-- Class: string (nullable = false)\n",
      " |-- Order: string (nullable = false)\n",
      " |-- Family: string (nullable = false)\n",
      " |-- WMostLong: double (nullable = true)\n",
      " |-- EMostLong: double (nullable = true)\n",
      " |-- Coverage: double (nullable = true)\n",
      " |-- Level: integer (nullable = true)\n",
      " |-- isWide: integer (nullable = true)\n",
      "\n"
     ]
    }
   ],
   "source": [
    "df_pre.printSchema()"
   ]
  },
  {
   "cell_type": "markdown",
   "metadata": {},
   "source": [
    "# Data transformation"
   ]
  },
  {
   "cell_type": "code",
   "execution_count": 18,
   "metadata": {},
   "outputs": [
    {
     "name": "stdout",
     "output_type": "stream",
     "text": [
      "+-----------+-----------------+-------------+-----+------+\n",
      "|      Class|            Order|       Family|Level|isWide|\n",
      "+-----------+-----------------+-------------+-----+------+\n",
      "|Actinopteri|Pleuronectiformes|    Achiridae|    0|     0|\n",
      "|Actinopteri|Pleuronectiformes|    Achiridae|    1|     0|\n",
      "|Actinopteri|Pleuronectiformes|    Achiridae|    0|     0|\n",
      "|Actinopteri|Pleuronectiformes|    Achiridae|    0|     0|\n",
      "|Actinopteri| Acipenseriformes|Acipenseridae|    2|     0|\n",
      "|Actinopteri| Acipenseriformes|Acipenseridae|    7|     1|\n",
      "|Actinopteri| Acipenseriformes|Acipenseridae|    1|     0|\n",
      "|Actinopteri| Acipenseriformes|Acipenseridae|    0|     0|\n",
      "|Actinopteri| Acipenseriformes|Acipenseridae|    1|     0|\n",
      "|Actinopteri| Acipenseriformes|Acipenseridae|    0|     0|\n",
      "|Actinopteri| Acipenseriformes|Acipenseridae|    2|     0|\n",
      "|Actinopteri| Acipenseriformes|Acipenseridae|    1|     0|\n",
      "|Actinopteri| Acipenseriformes|Acipenseridae|    0|     0|\n",
      "|Actinopteri| Acipenseriformes|Acipenseridae|    1|     0|\n",
      "|Actinopteri| Acipenseriformes|Acipenseridae|    1|     0|\n",
      "|Actinopteri| Acipenseriformes|Acipenseridae|    0|     0|\n",
      "|Actinopteri|      Perciformes|Acropomatidae|    1|     0|\n",
      "|Actinopteri|      Perciformes|Acropomatidae|    1|     0|\n",
      "|Actinopteri|      Perciformes|Acropomatidae|    5|     0|\n",
      "|Actinopteri|      Perciformes|Acropomatidae|    3|     0|\n",
      "+-----------+-----------------+-------------+-----+------+\n",
      "only showing top 20 rows\n",
      "\n"
     ]
    }
   ],
   "source": [
    "df_pre = df_pre.select('Class', 'Order', 'Family', 'Level', 'isWide')\n",
    "df_pre.show()"
   ]
  },
  {
   "cell_type": "code",
   "execution_count": 19,
   "metadata": {},
   "outputs": [
    {
     "name": "stdout",
     "output_type": "stream",
     "text": [
      "+-------+------------+----------------+------------+------------------+-------------------+\n",
      "|summary|       Class|           Order|      Family|             Level|             isWide|\n",
      "+-------+------------+----------------+------------+------------------+-------------------+\n",
      "|  count|        3021|            3021|        3021|              3021|               3021|\n",
      "|   mean|        null|            null|        null| 2.562727573651109|0.16120489904005297|\n",
      "| stddev|        null|            null|        null|2.6081484085060116|0.36778071414614144|\n",
      "|    min| Actinopteri|Acipenseriformes|Acanthuridae|                 0|                  0|\n",
      "|    max|Petromyzonti|       Zeiformes|   Zoarcidae|                11|                  1|\n",
      "+-------+------------+----------------+------------+------------------+-------------------+\n",
      "\n",
      "+------+-----+\n",
      "|isWide|count|\n",
      "+------+-----+\n",
      "|     1|  487|\n",
      "|     0| 2534|\n",
      "+------+-----+\n",
      "\n"
     ]
    }
   ],
   "source": [
    "df_pre.describe().show()\n",
    "df_pre.groupBy('isWide').count().show()"
   ]
  },
  {
   "cell_type": "markdown",
   "metadata": {},
   "source": [
    "### Subset 1: Level"
   ]
  },
  {
   "cell_type": "code",
   "execution_count": 20,
   "metadata": {},
   "outputs": [
    {
     "name": "stdout",
     "output_type": "stream",
     "text": [
      "+-----------+-----------------+-------------+-----+\n",
      "|      Class|            Order|       Family|Level|\n",
      "+-----------+-----------------+-------------+-----+\n",
      "|Actinopteri|Pleuronectiformes|    Achiridae|    0|\n",
      "|Actinopteri|Pleuronectiformes|    Achiridae|    1|\n",
      "|Actinopteri|Pleuronectiformes|    Achiridae|    0|\n",
      "|Actinopteri|Pleuronectiformes|    Achiridae|    0|\n",
      "|Actinopteri| Acipenseriformes|Acipenseridae|    2|\n",
      "|Actinopteri| Acipenseriformes|Acipenseridae|    7|\n",
      "|Actinopteri| Acipenseriformes|Acipenseridae|    1|\n",
      "|Actinopteri| Acipenseriformes|Acipenseridae|    0|\n",
      "|Actinopteri| Acipenseriformes|Acipenseridae|    1|\n",
      "|Actinopteri| Acipenseriformes|Acipenseridae|    0|\n",
      "+-----------+-----------------+-------------+-----+\n",
      "only showing top 10 rows\n",
      "\n"
     ]
    }
   ],
   "source": [
    "df_Level = df_pre.select('Class', 'Order', 'Family', 'Level')\n",
    "df_Level.show(10)"
   ]
  },
  {
   "cell_type": "markdown",
   "metadata": {},
   "source": [
    "### Subset 2: isWide"
   ]
  },
  {
   "cell_type": "code",
   "execution_count": 21,
   "metadata": {},
   "outputs": [
    {
     "name": "stdout",
     "output_type": "stream",
     "text": [
      "+-----------+-----------------+-------------+------+\n",
      "|      Class|            Order|       Family|isWide|\n",
      "+-----------+-----------------+-------------+------+\n",
      "|Actinopteri|Pleuronectiformes|    Achiridae|     0|\n",
      "|Actinopteri|Pleuronectiformes|    Achiridae|     0|\n",
      "|Actinopteri|Pleuronectiformes|    Achiridae|     0|\n",
      "|Actinopteri|Pleuronectiformes|    Achiridae|     0|\n",
      "|Actinopteri| Acipenseriformes|Acipenseridae|     0|\n",
      "|Actinopteri| Acipenseriformes|Acipenseridae|     1|\n",
      "|Actinopteri| Acipenseriformes|Acipenseridae|     0|\n",
      "|Actinopteri| Acipenseriformes|Acipenseridae|     0|\n",
      "|Actinopteri| Acipenseriformes|Acipenseridae|     0|\n",
      "|Actinopteri| Acipenseriformes|Acipenseridae|     0|\n",
      "+-----------+-----------------+-------------+------+\n",
      "only showing top 10 rows\n",
      "\n"
     ]
    }
   ],
   "source": [
    "df_isWide = df_pre.select('Class', 'Order', 'Family', 'isWide')\n",
    "df_isWide.show(10)"
   ]
  },
  {
   "cell_type": "markdown",
   "metadata": {},
   "source": [
    "### Test design"
   ]
  },
  {
   "cell_type": "code",
   "execution_count": 22,
   "metadata": {},
   "outputs": [],
   "source": [
    "trainData_Level,testData_Level = df_Level.randomSplit([0.7,0.3])\n",
    "trainData_isWide,testData_isWide = df_isWide.randomSplit([0.7,0.3])"
   ]
  },
  {
   "cell_type": "code",
   "execution_count": 23,
   "metadata": {
    "scrolled": true
   },
   "outputs": [
    {
     "name": "stdout",
     "output_type": "stream",
     "text": [
      "+-------+------------+----------------+------------+------------------+\n",
      "|summary|       Class|           Order|      Family|             Level|\n",
      "+-------+------------+----------------+------------+------------------+\n",
      "|  count|        2088|            2088|        2088|              2088|\n",
      "|   mean|        null|            null|        null|2.5613026819923372|\n",
      "| stddev|        null|            null|        null| 2.597790633355744|\n",
      "|    min| Actinopteri|Acipenseriformes|Acanthuridae|                 0|\n",
      "|    max|Petromyzonti|       Zeiformes|   Zoarcidae|                11|\n",
      "+-------+------------+----------------+------------+------------------+\n",
      "\n",
      "+-------+------------+----------------+------------+------------------+\n",
      "|summary|       Class|           Order|      Family|             Level|\n",
      "+-------+------------+----------------+------------+------------------+\n",
      "|  count|         933|             933|         933|               933|\n",
      "|   mean|        null|            null|        null|2.5659163987138265|\n",
      "| stddev|        null|            null|        null| 2.632578196931748|\n",
      "|    min| Actinopteri|Acipenseriformes|Acanthuridae|                 0|\n",
      "|    max|Petromyzonti|       Zeiformes|      Zeidae|                11|\n",
      "+-------+------------+----------------+------------+------------------+\n",
      "\n"
     ]
    }
   ],
   "source": [
    "# check out the count.\n",
    "trainData_Level.describe().show()\n",
    "testData_Level.describe().show()"
   ]
  },
  {
   "cell_type": "markdown",
   "metadata": {},
   "source": [
    "### Mining"
   ]
  },
  {
   "cell_type": "markdown",
   "metadata": {},
   "source": [
    "### Multiclass:   Level"
   ]
  },
  {
   "cell_type": "code",
   "execution_count": 24,
   "metadata": {},
   "outputs": [],
   "source": [
    "from pyspark.ml.feature import (VectorAssembler,VectorIndexer,OneHotEncoder,StringIndexer)\n",
    "# First create a string indexer which converts every string into a number, such as male = 0 and female = 1.\n",
    "# A number will be assigned to every category in the column.\n",
    "Class_indexer = StringIndexer(inputCol='Class',outputCol='ClassIndex')\n",
    "Order_indexer = StringIndexer(inputCol='Order',outputCol='OrderIndex')\n",
    "Family_indexer = StringIndexer(inputCol='Family',outputCol='FamilyIndex')\n",
    "\n",
    "Level_indexer = StringIndexer(inputCol='Level',outputCol='label')\n",
    "\n",
    "# Now we can one hot encode these numbers. This converts the various outputs into a single vector.\n",
    "# Multiple columns are collapsed into one. \n",
    "# This makes it easier to process when you have multiple classes.\n",
    "Class_encoder = OneHotEncoder(inputCol='ClassIndex',outputCol='ClassVec')\n",
    "Order_encoder = OneHotEncoder(inputCol='OrderIndex',outputCol='OrderVec')\n",
    "Family_encoder = OneHotEncoder(inputCol='FamilyIndex',outputCol='FamilyVec')\n",
    "\n",
    "# And finally, using vector assembler to turn all of these columns into one column (named features).\n",
    "assembler = VectorAssembler(inputCols=['ClassVec','OrderVec','FamilyVec'], outputCol=\"features\")"
   ]
  },
  {
   "cell_type": "code",
   "execution_count": 25,
   "metadata": {},
   "outputs": [],
   "source": [
    "from pyspark.ml import Pipeline\n",
    "# Then go through our steps. It's essentially sequential to the above.\n",
    "pipeline_Level = Pipeline(stages=[Class_indexer, Order_indexer, Family_indexer, Level_indexer, Class_encoder, Order_encoder, Family_encoder, assembler])\n",
    "\n",
    "# Now that we've got a number of steps, let's apply it to the DataFrame.\n",
    "pipeline_model = pipeline_Level.fit(df_Level)\n",
    "\n",
    "# Incorporate results into a new DataFrame.\n",
    "#pipe_df_Level = pipeline_model.transform(df_Level)\n",
    "pipe_df = pipeline_model.transform(df_Level)\n",
    "\n",
    "# Remove all variables other than features and label. \n",
    "pipe_df = pipe_df.select('label', 'features')"
   ]
  },
  {
   "cell_type": "code",
   "execution_count": 26,
   "metadata": {},
   "outputs": [],
   "source": [
    "from pyspark.ml import Pipeline\n",
    "# Then go through our steps. It's essentially sequential to the above.\n",
    "pipeline_Level = Pipeline(stages=[Class_indexer, Order_indexer, Family_indexer, Level_indexer, Class_encoder, Order_encoder, Family_encoder, assembler])\n",
    "\n",
    "# Now that we've got a number of steps, let's apply it to the DataFrame.\n",
    "pipeline_model = pipeline_Level.fit(df_Level)\n",
    "\n",
    "# Incorporate results into a new DataFrame.\n",
    "#pipe_df_Level = pipeline_model.transform(df_Level)\n",
    "pipe_df = pipeline_model.transform(df_Level)\n",
    "\n",
    "# Remove all variables other than features and label. \n",
    "pipe_df = pipe_df.select('label', 'features')"
   ]
  },
  {
   "cell_type": "markdown",
   "metadata": {},
   "source": [
    "### RandomForestClassifier"
   ]
  },
  {
   "cell_type": "code",
   "execution_count": 27,
   "metadata": {},
   "outputs": [
    {
     "name": "stdout",
     "output_type": "stream",
     "text": [
      "+--------------+-----+--------------------+\n",
      "|predictedLabel|label|            features|\n",
      "+--------------+-----+--------------------+\n",
      "|           0.0|  0.0|(340,[0,5,60],[1....|\n",
      "|           0.0|  0.0|(340,[0,5,60],[1....|\n",
      "|           0.0|  0.0|(340,[0,5,60],[1....|\n",
      "|           0.0|  0.0|(340,[0,5,60],[1....|\n",
      "|           0.0|  0.0|(340,[0,5,60],[1....|\n",
      "+--------------+-----+--------------------+\n",
      "only showing top 5 rows\n",
      "\n",
      "Test Error = 0.69747\n",
      "RandomForestClassificationModel (uid=rfc_d286495ea276) with 10 trees\n"
     ]
    }
   ],
   "source": [
    "from pyspark.ml import Pipeline\n",
    "from pyspark.ml.classification import RandomForestClassifier\n",
    "from pyspark.ml.feature import IndexToString, StringIndexer, VectorIndexer\n",
    "from pyspark.ml.evaluation import MulticlassClassificationEvaluator\n",
    "\n",
    "\n",
    "# Index labels, adding metadata to the label column.\n",
    "# Fit on whole dataset to include all labels in index.\n",
    "labelIndexer = StringIndexer(inputCol=\"label\", outputCol=\"indexedLabel\").fit(pipe_df)\n",
    "\n",
    "# Automatically identify categorical features, and index them.\n",
    "# Set maxCategories so features with > 4 distinct values are treated as continuous.\n",
    "featureIndexer =\\\n",
    "    VectorIndexer(inputCol=\"features\", outputCol=\"indexedFeatures\", maxCategories=4).fit(pipe_df)\n",
    "\n",
    "# Split the data into training and test sets (30% held out for testing)\n",
    "(trainingData, testData) = pipe_df.randomSplit([0.7, 0.3])\n",
    "\n",
    "# Train a RandomForest model.\n",
    "rf = RandomForestClassifier(labelCol=\"indexedLabel\", featuresCol=\"indexedFeatures\", numTrees=10)\n",
    "\n",
    "# Convert indexed labels back to original labels.\n",
    "labelConverter = IndexToString(inputCol=\"prediction\", outputCol=\"predictedLabel\",\n",
    "                               labels=labelIndexer.labels)\n",
    "\n",
    "# Chain indexers and forest in a Pipeline\n",
    "pipeline = Pipeline(stages=[labelIndexer, featureIndexer, rf, labelConverter])\n",
    "\n",
    "# Train model.  This also runs the indexers.\n",
    "model = pipeline.fit(trainingData)\n",
    "\n",
    "# Make predictions.\n",
    "predictions = model.transform(testData)\n",
    "\n",
    "# Select example rows to display.\n",
    "predictions.select(\"predictedLabel\", \"label\", \"features\").show(5)\n",
    "\n",
    "# Select (prediction, true label) and compute test error\n",
    "evaluator = MulticlassClassificationEvaluator(\n",
    "    labelCol=\"indexedLabel\", predictionCol=\"prediction\", metricName=\"accuracy\")\n",
    "accuracy = evaluator.evaluate(predictions)\n",
    "print(\"Test Error = %g\" % (1.0 - accuracy))\n",
    "\n",
    "rfModel = model.stages[2]\n",
    "print(rfModel)  # summary only"
   ]
  },
  {
   "cell_type": "markdown",
   "metadata": {},
   "source": [
    "### Decision tree"
   ]
  },
  {
   "cell_type": "code",
   "execution_count": 28,
   "metadata": {},
   "outputs": [
    {
     "name": "stdout",
     "output_type": "stream",
     "text": [
      "+----------+------------+--------------------+\n",
      "|prediction|indexedLabel|            features|\n",
      "+----------+------------+--------------------+\n",
      "|       0.0|         0.0|(340,[0,5,60],[1....|\n",
      "|       0.0|         0.0|(340,[0,5,60],[1....|\n",
      "|       0.0|         0.0|(340,[0,5,60],[1....|\n",
      "|       0.0|         0.0|(340,[0,5,60],[1....|\n",
      "|       0.0|         0.0|(340,[0,5,60],[1....|\n",
      "+----------+------------+--------------------+\n",
      "only showing top 5 rows\n",
      "\n",
      "Test Error = 0.702299 \n",
      "DecisionTreeClassificationModel (uid=DecisionTreeClassifier_4b768520f0bec584ef01) of depth 5 with 25 nodes\n"
     ]
    }
   ],
   "source": [
    "from pyspark.ml import Pipeline\n",
    "from pyspark.ml.classification import DecisionTreeClassifier\n",
    "from pyspark.ml.feature import StringIndexer, VectorIndexer\n",
    "from pyspark.ml.evaluation import MulticlassClassificationEvaluator\n",
    "\n",
    "# Index labels, adding metadata to the label column.\n",
    "# Fit on whole dataset to include all labels in index.\n",
    "labelIndexer = StringIndexer(inputCol=\"label\", outputCol=\"indexedLabel\").fit(pipe_df)\n",
    "# Automatically identify categorical features, and index them.\n",
    "# We specify maxCategories so features with > 4 distinct values are treated as continuous.\n",
    "featureIndexer =\\\n",
    "    VectorIndexer(inputCol=\"features\", outputCol=\"indexedFeatures\", maxCategories=4).fit(pipe_df)\n",
    "\n",
    "# Split the data into training and test sets (30% held out for testing)\n",
    "(trainingData, testData) = pipe_df.randomSplit([0.7, 0.3])\n",
    "\n",
    "# Train a DecisionTree model.\n",
    "dt = DecisionTreeClassifier(labelCol=\"indexedLabel\", featuresCol=\"indexedFeatures\")\n",
    "\n",
    "# Chain indexers and tree in a Pipeline\n",
    "pipeline = Pipeline(stages=[labelIndexer, featureIndexer, dt])\n",
    "\n",
    "# Train model.  This also runs the indexers.\n",
    "model = pipeline.fit(trainingData)\n",
    "\n",
    "# Make predictions.\n",
    "predictions = model.transform(testData)\n",
    "\n",
    "# Select example rows to display.\n",
    "predictions.select(\"prediction\", \"indexedLabel\", \"features\").show(5)\n",
    "\n",
    "# Select (prediction, true label) and compute test error\n",
    "evaluator = MulticlassClassificationEvaluator(\n",
    "    labelCol=\"indexedLabel\", predictionCol=\"prediction\", metricName=\"accuracy\")\n",
    "accuracy = evaluator.evaluate(predictions)\n",
    "print(\"Test Error = %g \" % (1.0 - accuracy))\n",
    "\n",
    "treeModel = model.stages[2]\n",
    "# summary only\n",
    "print(treeModel)"
   ]
  },
  {
   "cell_type": "markdown",
   "metadata": {},
   "source": [
    "### LogisticRegression"
   ]
  },
  {
   "cell_type": "code",
   "execution_count": 29,
   "metadata": {},
   "outputs": [
    {
     "name": "stdout",
     "output_type": "stream",
     "text": [
      "Multinomial coefficients: DenseMatrix([[0., 0., 0., ..., 0., 0., 0.],\n",
      "             [0., 0., 0., ..., 0., 0., 0.],\n",
      "             [0., 0., 0., ..., 0., 0., 0.],\n",
      "             ...,\n",
      "             [0., 0., 0., ..., 0., 0., 0.],\n",
      "             [0., 0., 0., ..., 0., 0., 0.],\n",
      "             [0., 0., 0., ..., 0., 0., 0.]])\n",
      "Multinomial intercepts: [1.8254897085129091,1.450999133124913,1.1883008740998784,0.47490561967224343,0.20744445779139858,0.13210724881689784,0.0786271534584337,-0.04826880363528784,-0.4619020482081257,-0.8780315760531435,-1.8803094919601404,-2.089362275619977]\n"
     ]
    }
   ],
   "source": [
    "\n",
    "from pyspark.ml.classification import LogisticRegression\n",
    "\n",
    "(training, testData) = pipe_df.randomSplit([0.7, 0.3])\n",
    "\n",
    "lr = LogisticRegression(maxIter=10, regParam=0.3, elasticNetParam=0.8)\n",
    "\n",
    "# We can also use the multinomial family for binary classification\n",
    "mlr = LogisticRegression(maxIter=10, regParam=0.3, elasticNetParam=0.8, family=\"multinomial\")\n",
    "\n",
    "# Fit the model\n",
    "mlrModel = mlr.fit(training)\n",
    "\n",
    "# Print the coefficients and intercepts for logistic regression with multinomial family\n",
    "print(\"Multinomial coefficients: \" + str(mlrModel.coefficientMatrix))\n",
    "print(\"Multinomial intercepts: \" + str(mlrModel.interceptVector))\n",
    "\n",
    "result = mlrModel.transform(testData)"
   ]
  },
  {
   "cell_type": "markdown",
   "metadata": {},
   "source": [
    "### Two-class: Wide"
   ]
  },
  {
   "cell_type": "code",
   "execution_count": 30,
   "metadata": {},
   "outputs": [],
   "source": [
    "from pyspark.ml.feature import (VectorAssembler,VectorIndexer,OneHotEncoder,StringIndexer)\n",
    "\n",
    "# First create a string indexer which converts every string into a number, such as male = 0 and female = 1.\n",
    "# A number will be assigned to every category in the column.\n",
    "Class_indexer = StringIndexer(inputCol='Class',outputCol='ClassIndex')\n",
    "Order_indexer = StringIndexer(inputCol='Order',outputCol='OrderIndex')\n",
    "Family_indexer = StringIndexer(inputCol='Family',outputCol='FamilyIndex')\n",
    "\n",
    "#Level_indexer = StringIndexer(inputCol='Level',outputCol='label')\n",
    "isWide_indexer = StringIndexer(inputCol='isWide',outputCol='label')\n",
    "\n",
    "# Now we can one hot encode these numbers. This converts the various outputs into a single vector.\n",
    "# Multiple columns are collapsed into one. \n",
    "# This makes it easier to process when you have multiple classes.\n",
    "Class_encoder = OneHotEncoder(inputCol='ClassIndex',outputCol='ClassVec')\n",
    "Order_encoder = OneHotEncoder(inputCol='OrderIndex',outputCol='OrderVec')\n",
    "Family_encoder = OneHotEncoder(inputCol='FamilyIndex',outputCol='FamilyVec')\n",
    "\n",
    "# And finally, using vector assembler to turn all of these columns into one column (named features).\n",
    "assembler = VectorAssembler(inputCols=['ClassVec','OrderVec','FamilyVec'], outputCol=\"features\")"
   ]
  },
  {
   "cell_type": "code",
   "execution_count": 31,
   "metadata": {},
   "outputs": [],
   "source": [
    "from pyspark.ml import Pipeline\n",
    "\n",
    "# Then go through our steps. It's essentially sequential to the above.\n",
    "#pipeline_Level = Pipeline(stages=[Class_indexer, Order_indexer, Family_indexer, Level_indexer, Class_encoder, Order_encoder, Family_encoder, assembler])\n",
    "pipeline = Pipeline(stages=[Class_indexer, Order_indexer, Family_indexer, isWide_indexer, Class_encoder, Order_encoder, Family_encoder, assembler])\n",
    "\n",
    "\n",
    "# Now that we've got a number of steps, let's apply it to the DataFrame.\n",
    "#pipeline_model = pipeline_Level.fit(df_Level)\n",
    "pipeline_model = pipeline.fit(df_isWide)\n",
    "\n",
    "\n",
    "# Incorporate results into a new DataFrame.\n",
    "#pipe_df_Level = pipeline_model.transform(df_Level)\n",
    "pipe_df = pipeline_model.transform(df_isWide)\n",
    "\n",
    "\n",
    "# Remove all variables other than features and label. \n",
    "#pipe_df_Level = pipe_df_Level.select('label', 'features')\n",
    "pipe_df = pipe_df.select('label', 'features')"
   ]
  },
  {
   "cell_type": "markdown",
   "metadata": {},
   "source": [
    "### LogisticRegression"
   ]
  },
  {
   "cell_type": "code",
   "execution_count": 32,
   "metadata": {},
   "outputs": [
    {
     "name": "stdout",
     "output_type": "stream",
     "text": [
      "Training Dataset Count: 2090\n",
      "Test Dataset Count: 931\n"
     ]
    }
   ],
   "source": [
    "from pyspark.ml.classification import LogisticRegression\n",
    "\n",
    "# Split our data. Note that the new DataFrame is being used.\n",
    "train_data, test_data = pipe_df.randomSplit([0.7,0.3])\n",
    "print(\"Training Dataset Count: \" + str(train_data.count()))\n",
    "print(\"Test Dataset Count: \" + str(test_data.count()))\n",
    "\n",
    "# Instantiate the model.\n",
    "lr_model = LogisticRegression(featuresCol='features',labelCol='label')\n",
    "\n",
    "# Fit the model.\n",
    "lr_model = lr_model.fit(train_data)\n",
    "\n",
    "# And evaluate the model using the test data.\n",
    "results = lr_model.transform(test_data)\n"
   ]
  },
  {
   "cell_type": "code",
   "execution_count": 33,
   "metadata": {},
   "outputs": [
    {
     "data": {
      "text/plain": [
       "<Figure size 640x480 with 1 Axes>"
      ]
     },
     "metadata": {},
     "output_type": "display_data"
    }
   ],
   "source": [
    "import matplotlib.pyplot as plt\n",
    "import numpy as np\n",
    "\n",
    "# Visualising the coefficients. Sort from lowest to highest.\n",
    "beta = np.sort(lr_model.coefficients)\n",
    "\n",
    "# Plot the data.\n",
    "plt.plot(beta)\n",
    "\n",
    "# Add a label to the data.\n",
    "plt.ylabel('Beta Coefficients')\n",
    "\n",
    "# Show the graph. \n",
    "plt.show()"
   ]
  },
  {
   "cell_type": "code",
   "execution_count": 34,
   "metadata": {},
   "outputs": [
    {
     "data": {
      "image/png": "[encoded data removed]",
      "text/plain": [
       "<Figure size 432x288 with 1 Axes>"
      ]
     },
     "metadata": {},
     "output_type": "display_data"
    },
    {
     "name": "stdout",
     "output_type": "stream",
     "text": [
      "Area Under the Curve: 0.8116046831955922\n"
     ]
    }
   ],
   "source": [
    "# Let's get a summary of the data.\n",
    "training_summary = lr_model.summary\n",
    "\n",
    "# Convert the DataFrame to a Pandas DataFrame.\n",
    "ROC = training_summary.roc.toPandas()\n",
    "\n",
    "# Plot the true positive and false positive rates.\n",
    "plt.plot(ROC['FPR'],ROC['TPR'])\n",
    "\n",
    "# Define the labels.\n",
    "plt.ylabel('True Positive Rate')\n",
    "plt.xlabel('False Positive Rate')\n",
    "plt.title('ROC Curve')\n",
    "plt.show()\n",
    "\n",
    "# Print the AUC statistic. \n",
    "print('Area Under the Curve: ' + str(training_summary.areaUnderROC))"
   ]
  },
  {
   "cell_type": "code",
   "execution_count": 52,
   "metadata": {},
   "outputs": [
    {
     "data": {
      "image/png": "[encoded data removed]",
      "text/plain": [
       "<Figure size 432x288 with 1 Axes>"
      ]
     },
     "metadata": {},
     "output_type": "display_data"
    }
   ],
   "source": [
    "# Convert DataFrame to Pandas DataFrame.\n",
    "pr = training_summary.pr.toPandas()\n",
    "\n",
    "# Plot model recall and precision.\n",
    "plt.plot(pr['recall'],pr['precision'])\n",
    "\n",
    "# Define the labels and show the graph. \n",
    "plt.ylabel('Precision')\n",
    "plt.xlabel('Recall')\n",
    "plt.show()"
   ]
  },
  {
   "cell_type": "markdown",
   "metadata": {},
   "source": [
    "### Random Forest Classifier"
   ]
  },
  {
   "cell_type": "code",
   "execution_count": 53,
   "metadata": {},
   "outputs": [
    {
     "name": "stdout",
     "output_type": "stream",
     "text": [
      "+--------------+-----+-------------+\n",
      "|predictedLabel|label|     features|\n",
      "+--------------+-----+-------------+\n",
      "|           0.0|  0.0|(5,[0],[1.0])|\n",
      "|           0.0|  0.0|(5,[0],[1.0])|\n",
      "|           0.0|  0.0|(5,[0],[1.0])|\n",
      "|           0.0|  0.0|(5,[0],[1.0])|\n",
      "|           0.0|  0.0|(5,[0],[1.0])|\n",
      "+--------------+-----+-------------+\n",
      "only showing top 5 rows\n",
      "\n",
      "Test Error = 0.155801\n",
      "RandomForestClassificationModel (uid=rfc_6a40318e57db) with 10 trees\n"
     ]
    }
   ],
   "source": [
    "from pyspark.ml.classification import RandomForestClassifier\n",
    "\n",
    "from pyspark.ml.feature import IndexToString, StringIndexer, VectorIndexer\n",
    "from pyspark.ml.evaluation import MulticlassClassificationEvaluator\n",
    "\n",
    "# Index labels, adding metadata to the label column.\n",
    "# Fit on whole dataset to include all labels in index.\n",
    "labelIndexer = StringIndexer(inputCol=\"label\", outputCol=\"indexedLabel\").fit(pipe_df)\n",
    "\n",
    "# Automatically identify categorical features, and index them.\n",
    "# Set maxCategories so features with > 4 distinct values are treated as continuous.\n",
    "featureIndexer =\\\n",
    "    VectorIndexer(inputCol=\"features\", outputCol=\"indexedFeatures\", maxCategories=4).fit(pipe_df)\n",
    "\n",
    "# Split the data into training and test sets (30% held out for testing)\n",
    "(trainingData, testData) = pipe_df.randomSplit([0.7, 0.3])\n",
    "\n",
    "# Train a RandomForest model.\n",
    "rf = RandomForestClassifier(labelCol=\"indexedLabel\", featuresCol=\"indexedFeatures\", numTrees=10)\n",
    "\n",
    "# Convert indexed labels back to original labels.\n",
    "labelConverter = IndexToString(inputCol=\"prediction\", outputCol=\"predictedLabel\",\n",
    "                               labels=labelIndexer.labels)\n",
    "\n",
    "# Chain indexers and forest in a Pipeline\n",
    "pipeline = Pipeline(stages=[labelIndexer, featureIndexer, rf, labelConverter])\n",
    "\n",
    "# Train model.  This also runs the indexers.\n",
    "model = pipeline.fit(trainingData)\n",
    "\n",
    "# Make predictions.\n",
    "predictions = model.transform(testData)\n",
    "\n",
    "# Select example rows to display.\n",
    "predictions.select(\"predictedLabel\", \"label\", \"features\").show(5)\n",
    "\n",
    "# Select (prediction, true label) and compute test error\n",
    "evaluator = MulticlassClassificationEvaluator(\n",
    "    labelCol=\"indexedLabel\", predictionCol=\"prediction\", metricName=\"accuracy\")\n",
    "accuracy = evaluator.evaluate(predictions)\n",
    "print(\"Test Error = %g\" % (1.0 - accuracy))\n",
    "\n",
    "rfModel = model.stages[2]\n",
    "print(rfModel)  # summary only"
   ]
  },
  {
   "cell_type": "markdown",
   "metadata": {},
   "source": [
    "### GBTClassifier"
   ]
  },
  {
   "cell_type": "code",
   "execution_count": 56,
   "metadata": {},
   "outputs": [
    {
     "name": "stdout",
     "output_type": "stream",
     "text": [
      "+----------+------------+-------------+\n",
      "|prediction|indexedLabel|     features|\n",
      "+----------+------------+-------------+\n",
      "|       0.0|         0.0|    (5,[],[])|\n",
      "|       0.0|         0.0|(5,[0],[1.0])|\n",
      "|       0.0|         0.0|(5,[0],[1.0])|\n",
      "|       0.0|         0.0|(5,[0],[1.0])|\n",
      "|       0.0|         0.0|(5,[0],[1.0])|\n",
      "+----------+------------+-------------+\n",
      "only showing top 5 rows\n",
      "\n",
      "Test Error = 0.168623\n",
      "GBTClassificationModel (uid=GBTClassifier_48f89a5768b1d258dc1c) with 10 trees\n"
     ]
    }
   ],
   "source": [
    "from pyspark.ml import Pipeline\n",
    "from pyspark.ml.classification import GBTClassifier\n",
    "from pyspark.ml.feature import StringIndexer, VectorIndexer\n",
    "from pyspark.ml.evaluation import MulticlassClassificationEvaluator\n",
    "\n",
    "\n",
    "# Index labels, adding metadata to the label column.\n",
    "# Fit on whole dataset to include all labels in index.\n",
    "labelIndexer = StringIndexer(inputCol=\"label\", outputCol=\"indexedLabel\").fit(pipe_df)\n",
    "# Automatically identify categorical features, and index them.\n",
    "# Set maxCategories so features with > 4 distinct values are treated as continuous.\n",
    "featureIndexer =\\\n",
    "    VectorIndexer(inputCol=\"features\", outputCol=\"indexedFeatures\", maxCategories=4).fit(pipe_df)\n",
    "\n",
    "# Split the data into training and test sets (30% held out for testing)\n",
    "(trainingData, testData) = pipe_df.randomSplit([0.7, 0.3])\n",
    "\n",
    "# Train a GBT model.\n",
    "gbt = GBTClassifier(labelCol=\"indexedLabel\", featuresCol=\"indexedFeatures\", maxIter=10)\n",
    "\n",
    "# Chain indexers and GBT in a Pipeline\n",
    "pipeline = Pipeline(stages=[labelIndexer, featureIndexer, gbt])\n",
    "\n",
    "# Train model.  This also runs the indexers.\n",
    "model = pipeline.fit(trainingData)\n",
    "\n",
    "# Make predictions.\n",
    "predictions = model.transform(testData)\n",
    "\n",
    "# Select example rows to display.\n",
    "predictions.select(\"prediction\", \"indexedLabel\", \"features\").show(5)\n",
    "\n",
    "# Select (prediction, true label) and compute test error\n",
    "evaluator = MulticlassClassificationEvaluator(\n",
    "    labelCol=\"indexedLabel\", predictionCol=\"prediction\", metricName=\"accuracy\")\n",
    "accuracy = evaluator.evaluate(predictions)\n",
    "print(\"Test Error = %g\" % (1.0 - accuracy))\n",
    "\n",
    "gbtModel = model.stages[2]\n",
    "print(gbtModel)  # summary only"
   ]
  },
  {
   "cell_type": "code",
   "execution_count": null,
   "metadata": {},
   "outputs": [],
   "source": []
  },
  {
   "cell_type": "markdown",
   "metadata": {},
   "source": [
    "### Multiple iteration"
   ]
  },
  {
   "cell_type": "markdown",
   "metadata": {},
   "source": [
    "#### \"Class\" VS \"isWide\""
   ]
  },
  {
   "cell_type": "code",
   "execution_count": 57,
   "metadata": {},
   "outputs": [],
   "source": [
    "df_isWide2 = df_pre.select('Class', 'Order', 'Family', 'isWide')"
   ]
  },
  {
   "cell_type": "code",
   "execution_count": 58,
   "metadata": {},
   "outputs": [],
   "source": [
    "from pyspark.ml.feature import (VectorAssembler,VectorIndexer,OneHotEncoder,StringIndexer)\n",
    "# First create a string indexer which converts every string into a number, such as male = 0 and female = 1.\n",
    "# A number will be assigned to every category in the column.\n",
    "Class_indexer = StringIndexer(inputCol='Class',outputCol='ClassIndex')\n",
    "\n",
    "isWide_indexer = StringIndexer(inputCol='isWide',outputCol='label')\n",
    "\n",
    "# Now we can one hot encode these numbers. This converts the various outputs into a single vector.\n",
    "# Multiple columns are collapsed into one. \n",
    "# This makes it easier to process when you have multiple classes.\n",
    "Class_encoder = OneHotEncoder(inputCol='ClassIndex',outputCol='ClassVec')\n",
    "\n",
    "# And finally, using vector assembler to turn all of these columns into one column (named features).\n",
    "assembler = VectorAssembler(inputCols=['ClassVec'], outputCol=\"features\")"
   ]
  },
  {
   "cell_type": "code",
   "execution_count": 59,
   "metadata": {},
   "outputs": [],
   "source": [
    "from pyspark.ml import Pipeline\n",
    "# Then go through our steps. It's essentially sequential to the above.\n",
    "pipeline = Pipeline(stages=[Class_indexer, isWide_indexer, Class_encoder, assembler])\n",
    "\n",
    "# Now that we've got a number of steps, let's apply it to the DataFrame.\n",
    "pipeline_model = pipeline.fit(df_isWide2)\n",
    "\n",
    "# Incorporate results into a new DataFrame.\n",
    "#pipe_df_Level = pipeline_model.transform(df_Level)\n",
    "pipe_df = pipeline_model.transform(df_isWide2)\n",
    "\n",
    "# Remove all variables other than features and label. \n",
    "pipe_df = pipe_df.select('label', 'features')"
   ]
  },
  {
   "cell_type": "code",
   "execution_count": 60,
   "metadata": {},
   "outputs": [
    {
     "name": "stdout",
     "output_type": "stream",
     "text": [
      "+----------+------------+-------------+\n",
      "|prediction|indexedLabel|     features|\n",
      "+----------+------------+-------------+\n",
      "|       0.0|         0.0|(5,[0],[1.0])|\n",
      "|       0.0|         0.0|(5,[0],[1.0])|\n",
      "|       0.0|         0.0|(5,[0],[1.0])|\n",
      "|       0.0|         0.0|(5,[0],[1.0])|\n",
      "|       0.0|         0.0|(5,[0],[1.0])|\n",
      "+----------+------------+-------------+\n",
      "only showing top 5 rows\n",
      "\n",
      "Test Error = 0.156284\n",
      "GBTClassificationModel (uid=GBTClassifier_4754b9cef4a4ca088244) with 10 trees\n"
     ]
    }
   ],
   "source": [
    "# Index labels, adding metadata to the label column.\n",
    "# Fit on whole dataset to include all labels in index.\n",
    "labelIndexer = StringIndexer(inputCol=\"label\", outputCol=\"indexedLabel\").fit(pipe_df)\n",
    "# Automatically identify categorical features, and index them.\n",
    "# Set maxCategories so features with > 4 distinct values are treated as continuous.\n",
    "featureIndexer =\\\n",
    "    VectorIndexer(inputCol=\"features\", outputCol=\"indexedFeatures\", maxCategories=4).fit(pipe_df)\n",
    "\n",
    "# Split the data into training and test sets (30% held out for testing)\n",
    "(trainingData, testData) = pipe_df.randomSplit([0.7, 0.3])\n",
    "\n",
    "# Train a GBT model.\n",
    "gbt = GBTClassifier(labelCol=\"indexedLabel\", featuresCol=\"indexedFeatures\", maxIter=10)\n",
    "\n",
    "# Chain indexers and GBT in a Pipeline\n",
    "pipeline = Pipeline(stages=[labelIndexer, featureIndexer, gbt])\n",
    "\n",
    "# Train model.  This also runs the indexers.\n",
    "model = pipeline.fit(trainingData)\n",
    "\n",
    "# Make predictions.\n",
    "predictions = model.transform(testData)\n",
    "\n",
    "# Select example rows to display.\n",
    "predictions.select(\"prediction\", \"indexedLabel\", \"features\").show(5)\n",
    "\n",
    "# Select (prediction, true label) and compute test error\n",
    "evaluator = MulticlassClassificationEvaluator(\n",
    "    labelCol=\"indexedLabel\", predictionCol=\"prediction\", metricName=\"accuracy\")\n",
    "accuracy = evaluator.evaluate(predictions)\n",
    "print(\"Test Error = %g\" % (1.0 - accuracy))\n",
    "\n",
    "gbtModel = model.stages[2]\n",
    "print(gbtModel)  # summary only"
   ]
  },
  {
   "cell_type": "code",
   "execution_count": null,
   "metadata": {},
   "outputs": [],
   "source": []
  },
  {
   "cell_type": "code",
   "execution_count": 61,
   "metadata": {},
   "outputs": [
    {
     "ename": "Py4JJavaError",
     "evalue": "An error occurred while calling z:org.apache.spark.api.python.PythonRDD.collectAndServe.\n: org.apache.spark.SparkException: Job aborted due to stage failure: Task 0 in stage 965.0 failed 1 times, most recent failure: Lost task 0.0 in stage 965.0 (TID 2536, localhost, executor driver): org.apache.spark.api.python.PythonException: Traceback (most recent call last):\n  File \"/home/ubuntu/spark-2.1.1-bin-hadoop2.7/python/lib/pyspark.zip/pyspark/worker.py\", line 174, in main\n    process()\n  File \"/home/ubuntu/spark-2.1.1-bin-hadoop2.7/python/lib/pyspark.zip/pyspark/worker.py\", line 169, in process\n    serializer.dump_stream(func(split_index, iterator), outfile)\n  File \"/home/ubuntu/spark-2.1.1-bin-hadoop2.7/python/lib/pyspark.zip/pyspark/serializers.py\", line 268, in dump_stream\n    vs = list(itertools.islice(iterator, batch))\n  File \"/home/ubuntu/spark-2.1.1-bin-hadoop2.7/python/pyspark/rdd.py\", line 1949, in <lambda>\n    map_values_fn = lambda kv: (kv[0], f(kv[1]))\n  File \"<ipython-input-61-5cc80d667d44>\", line 5, in weighted_mean\n  File \"/home/ubuntu/.local/lib/python3.5/site-packages/numpy/core/fromnumeric.py\", line 1869, in sum\n    res = _sum_(a)\nTypeError: unsupported operand type(s) for +: 'int' and 'str'\n\n\tat org.apache.spark.api.python.PythonRunner$$anon$1.read(PythonRDD.scala:193)\n\tat org.apache.spark.api.python.PythonRunner$$anon$1.<init>(PythonRDD.scala:234)\n\tat org.apache.spark.api.python.PythonRunner.compute(PythonRDD.scala:152)\n\tat org.apache.spark.api.python.PythonRDD.compute(PythonRDD.scala:63)\n\tat org.apache.spark.rdd.RDD.computeOrReadCheckpoint(RDD.scala:323)\n\tat org.apache.spark.rdd.RDD.iterator(RDD.scala:287)\n\tat org.apache.spark.scheduler.ResultTask.runTask(ResultTask.scala:87)\n\tat org.apache.spark.scheduler.Task.run(Task.scala:99)\n\tat org.apache.spark.executor.Executor$TaskRunner.run(Executor.scala:322)\n\tat java.util.concurrent.ThreadPoolExecutor.runWorker(ThreadPoolExecutor.java:1149)\n\tat java.util.concurrent.ThreadPoolExecutor$Worker.run(ThreadPoolExecutor.java:624)\n\tat java.lang.Thread.run(Thread.java:748)\n\nDriver stacktrace:\n\tat org.apache.spark.scheduler.DAGScheduler.org$apache$spark$scheduler$DAGScheduler$$failJobAndIndependentStages(DAGScheduler.scala:1435)\n\tat org.apache.spark.scheduler.DAGScheduler$$anonfun$abortStage$1.apply(DAGScheduler.scala:1423)\n\tat org.apache.spark.scheduler.DAGScheduler$$anonfun$abortStage$1.apply(DAGScheduler.scala:1422)\n\tat scala.collection.mutable.ResizableArray$class.foreach(ResizableArray.scala:59)\n\tat scala.collection.mutable.ArrayBuffer.foreach(ArrayBuffer.scala:48)\n\tat org.apache.spark.scheduler.DAGScheduler.abortStage(DAGScheduler.scala:1422)\n\tat org.apache.spark.scheduler.DAGScheduler$$anonfun$handleTaskSetFailed$1.apply(DAGScheduler.scala:802)\n\tat org.apache.spark.scheduler.DAGScheduler$$anonfun$handleTaskSetFailed$1.apply(DAGScheduler.scala:802)\n\tat scala.Option.foreach(Option.scala:257)\n\tat org.apache.spark.scheduler.DAGScheduler.handleTaskSetFailed(DAGScheduler.scala:802)\n\tat org.apache.spark.scheduler.DAGSchedulerEventProcessLoop.doOnReceive(DAGScheduler.scala:1650)\n\tat org.apache.spark.scheduler.DAGSchedulerEventProcessLoop.onReceive(DAGScheduler.scala:1605)\n\tat org.apache.spark.scheduler.DAGSchedulerEventProcessLoop.onReceive(DAGScheduler.scala:1594)\n\tat org.apache.spark.util.EventLoop$$anon$1.run(EventLoop.scala:48)\n\tat org.apache.spark.scheduler.DAGScheduler.runJob(DAGScheduler.scala:628)\n\tat org.apache.spark.SparkContext.runJob(SparkContext.scala:1925)\n\tat org.apache.spark.SparkContext.runJob(SparkContext.scala:1938)\n\tat org.apache.spark.SparkContext.runJob(SparkContext.scala:1951)\n\tat org.apache.spark.SparkContext.runJob(SparkContext.scala:1965)\n\tat org.apache.spark.rdd.RDD$$anonfun$collect$1.apply(RDD.scala:936)\n\tat org.apache.spark.rdd.RDDOperationScope$.withScope(RDDOperationScope.scala:151)\n\tat org.apache.spark.rdd.RDDOperationScope$.withScope(RDDOperationScope.scala:112)\n\tat org.apache.spark.rdd.RDD.withScope(RDD.scala:362)\n\tat org.apache.spark.rdd.RDD.collect(RDD.scala:935)\n\tat org.apache.spark.api.python.PythonRDD$.collectAndServe(PythonRDD.scala:453)\n\tat org.apache.spark.api.python.PythonRDD.collectAndServe(PythonRDD.scala)\n\tat sun.reflect.NativeMethodAccessorImpl.invoke0(Native Method)\n\tat sun.reflect.NativeMethodAccessorImpl.invoke(NativeMethodAccessorImpl.java:62)\n\tat sun.reflect.DelegatingMethodAccessorImpl.invoke(DelegatingMethodAccessorImpl.java:43)\n\tat java.lang.reflect.Method.invoke(Method.java:498)\n\tat py4j.reflection.MethodInvoker.invoke(MethodInvoker.java:244)\n\tat py4j.reflection.ReflectionEngine.invoke(ReflectionEngine.java:357)\n\tat py4j.Gateway.invoke(Gateway.java:280)\n\tat py4j.commands.AbstractCommand.invokeMethod(AbstractCommand.java:132)\n\tat py4j.commands.CallCommand.execute(CallCommand.java:79)\n\tat py4j.GatewayConnection.run(GatewayConnection.java:214)\n\tat java.lang.Thread.run(Thread.java:748)\nCaused by: org.apache.spark.api.python.PythonException: Traceback (most recent call last):\n  File \"/home/ubuntu/spark-2.1.1-bin-hadoop2.7/python/lib/pyspark.zip/pyspark/worker.py\", line 174, in main\n    process()\n  File \"/home/ubuntu/spark-2.1.1-bin-hadoop2.7/python/lib/pyspark.zip/pyspark/worker.py\", line 169, in process\n    serializer.dump_stream(func(split_index, iterator), outfile)\n  File \"/home/ubuntu/spark-2.1.1-bin-hadoop2.7/python/lib/pyspark.zip/pyspark/serializers.py\", line 268, in dump_stream\n    vs = list(itertools.islice(iterator, batch))\n  File \"/home/ubuntu/spark-2.1.1-bin-hadoop2.7/python/pyspark/rdd.py\", line 1949, in <lambda>\n    map_values_fn = lambda kv: (kv[0], f(kv[1]))\n  File \"<ipython-input-61-5cc80d667d44>\", line 5, in weighted_mean\n  File \"/home/ubuntu/.local/lib/python3.5/site-packages/numpy/core/fromnumeric.py\", line 1869, in sum\n    res = _sum_(a)\nTypeError: unsupported operand type(s) for +: 'int' and 'str'\n\n\tat org.apache.spark.api.python.PythonRunner$$anon$1.read(PythonRDD.scala:193)\n\tat org.apache.spark.api.python.PythonRunner$$anon$1.<init>(PythonRDD.scala:234)\n\tat org.apache.spark.api.python.PythonRunner.compute(PythonRDD.scala:152)\n\tat org.apache.spark.api.python.PythonRDD.compute(PythonRDD.scala:63)\n\tat org.apache.spark.rdd.RDD.computeOrReadCheckpoint(RDD.scala:323)\n\tat org.apache.spark.rdd.RDD.iterator(RDD.scala:287)\n\tat org.apache.spark.scheduler.ResultTask.runTask(ResultTask.scala:87)\n\tat org.apache.spark.scheduler.Task.run(Task.scala:99)\n\tat org.apache.spark.executor.Executor$TaskRunner.run(Executor.scala:322)\n\tat java.util.concurrent.ThreadPoolExecutor.runWorker(ThreadPoolExecutor.java:1149)\n\tat java.util.concurrent.ThreadPoolExecutor$Worker.run(ThreadPoolExecutor.java:624)\n\t... 1 more\n",
     "output_type": "error",
     "traceback": [
      "\u001b[0;31m---------------------------------------------------------------------------\u001b[0m",
      "\u001b[0;31mPy4JJavaError\u001b[0m                             Traceback (most recent call last)",
      "\u001b[0;32m<ipython-input-61-5cc80d667d44>\u001b[0m in \u001b[0;36m<module>\u001b[0;34m()\u001b[0m\n\u001b[1;32m      9\u001b[0m     \u001b[0;32mlambda\u001b[0m \u001b[0mx\u001b[0m\u001b[0;34m:\u001b[0m \u001b[0;34m(\u001b[0m\u001b[0mx\u001b[0m\u001b[0;34m[\u001b[0m\u001b[0;36m0\u001b[0m\u001b[0;34m]\u001b[0m\u001b[0;34m,\u001b[0m \u001b[0mtuple\u001b[0m\u001b[0;34m(\u001b[0m\u001b[0mx\u001b[0m\u001b[0;34m[\u001b[0m\u001b[0;36m1\u001b[0m\u001b[0;34m:\u001b[0m\u001b[0;34m]\u001b[0m\u001b[0;34m)\u001b[0m\u001b[0;34m)\u001b[0m  \u001b[0;31m# reshape to (key, val) so grouping could work\u001b[0m\u001b[0;34m\u001b[0m\u001b[0m\n\u001b[1;32m     10\u001b[0m \u001b[0;34m)\u001b[0m\u001b[0;34m.\u001b[0m\u001b[0mgroupByKey\u001b[0m\u001b[0;34m(\u001b[0m\u001b[0;34m)\u001b[0m\u001b[0;34m.\u001b[0m\u001b[0mmapValues\u001b[0m\u001b[0;34m(\u001b[0m\u001b[0;34m\u001b[0m\u001b[0m\n\u001b[0;32m---> 11\u001b[0;31m     \u001b[0mweighted_mean\u001b[0m\u001b[0;34m\u001b[0m\u001b[0m\n\u001b[0m\u001b[1;32m     12\u001b[0m ).collect()\n",
      "\u001b[0;32m~/spark-2.1.1-bin-hadoop2.7/python/pyspark/rdd.py\u001b[0m in \u001b[0;36mcollect\u001b[0;34m(self)\u001b[0m\n\u001b[1;32m    806\u001b[0m         \"\"\"\n\u001b[1;32m    807\u001b[0m         \u001b[0;32mwith\u001b[0m \u001b[0mSCCallSiteSync\u001b[0m\u001b[0;34m(\u001b[0m\u001b[0mself\u001b[0m\u001b[0;34m.\u001b[0m\u001b[0mcontext\u001b[0m\u001b[0;34m)\u001b[0m \u001b[0;32mas\u001b[0m \u001b[0mcss\u001b[0m\u001b[0;34m:\u001b[0m\u001b[0;34m\u001b[0m\u001b[0m\n\u001b[0;32m--> 808\u001b[0;31m             \u001b[0mport\u001b[0m \u001b[0;34m=\u001b[0m \u001b[0mself\u001b[0m\u001b[0;34m.\u001b[0m\u001b[0mctx\u001b[0m\u001b[0;34m.\u001b[0m\u001b[0m_jvm\u001b[0m\u001b[0;34m.\u001b[0m\u001b[0mPythonRDD\u001b[0m\u001b[0;34m.\u001b[0m\u001b[0mcollectAndServe\u001b[0m\u001b[0;34m(\u001b[0m\u001b[0mself\u001b[0m\u001b[0;34m.\u001b[0m\u001b[0m_jrdd\u001b[0m\u001b[0;34m.\u001b[0m\u001b[0mrdd\u001b[0m\u001b[0;34m(\u001b[0m\u001b[0;34m)\u001b[0m\u001b[0;34m)\u001b[0m\u001b[0;34m\u001b[0m\u001b[0m\n\u001b[0m\u001b[1;32m    809\u001b[0m         \u001b[0;32mreturn\u001b[0m \u001b[0mlist\u001b[0m\u001b[0;34m(\u001b[0m\u001b[0m_load_from_socket\u001b[0m\u001b[0;34m(\u001b[0m\u001b[0mport\u001b[0m\u001b[0;34m,\u001b[0m \u001b[0mself\u001b[0m\u001b[0;34m.\u001b[0m\u001b[0m_jrdd_deserializer\u001b[0m\u001b[0;34m)\u001b[0m\u001b[0;34m)\u001b[0m\u001b[0;34m\u001b[0m\u001b[0m\n\u001b[1;32m    810\u001b[0m \u001b[0;34m\u001b[0m\u001b[0m\n",
      "\u001b[0;32m~/spark-2.1.1-bin-hadoop2.7/python/lib/py4j-0.10.4-src.zip/py4j/java_gateway.py\u001b[0m in \u001b[0;36m__call__\u001b[0;34m(self, *args)\u001b[0m\n\u001b[1;32m   1131\u001b[0m         \u001b[0manswer\u001b[0m \u001b[0;34m=\u001b[0m \u001b[0mself\u001b[0m\u001b[0;34m.\u001b[0m\u001b[0mgateway_client\u001b[0m\u001b[0;34m.\u001b[0m\u001b[0msend_command\u001b[0m\u001b[0;34m(\u001b[0m\u001b[0mcommand\u001b[0m\u001b[0;34m)\u001b[0m\u001b[0;34m\u001b[0m\u001b[0m\n\u001b[1;32m   1132\u001b[0m         return_value = get_return_value(\n\u001b[0;32m-> 1133\u001b[0;31m             answer, self.gateway_client, self.target_id, self.name)\n\u001b[0m\u001b[1;32m   1134\u001b[0m \u001b[0;34m\u001b[0m\u001b[0m\n\u001b[1;32m   1135\u001b[0m         \u001b[0;32mfor\u001b[0m \u001b[0mtemp_arg\u001b[0m \u001b[0;32min\u001b[0m \u001b[0mtemp_args\u001b[0m\u001b[0;34m:\u001b[0m\u001b[0;34m\u001b[0m\u001b[0m\n",
      "\u001b[0;32m~/spark-2.1.1-bin-hadoop2.7/python/pyspark/sql/utils.py\u001b[0m in \u001b[0;36mdeco\u001b[0;34m(*a, **kw)\u001b[0m\n\u001b[1;32m     61\u001b[0m     \u001b[0;32mdef\u001b[0m \u001b[0mdeco\u001b[0m\u001b[0;34m(\u001b[0m\u001b[0;34m*\u001b[0m\u001b[0ma\u001b[0m\u001b[0;34m,\u001b[0m \u001b[0;34m**\u001b[0m\u001b[0mkw\u001b[0m\u001b[0;34m)\u001b[0m\u001b[0;34m:\u001b[0m\u001b[0;34m\u001b[0m\u001b[0m\n\u001b[1;32m     62\u001b[0m         \u001b[0;32mtry\u001b[0m\u001b[0;34m:\u001b[0m\u001b[0;34m\u001b[0m\u001b[0m\n\u001b[0;32m---> 63\u001b[0;31m             \u001b[0;32mreturn\u001b[0m \u001b[0mf\u001b[0m\u001b[0;34m(\u001b[0m\u001b[0;34m*\u001b[0m\u001b[0ma\u001b[0m\u001b[0;34m,\u001b[0m \u001b[0;34m**\u001b[0m\u001b[0mkw\u001b[0m\u001b[0;34m)\u001b[0m\u001b[0;34m\u001b[0m\u001b[0m\n\u001b[0m\u001b[1;32m     64\u001b[0m         \u001b[0;32mexcept\u001b[0m \u001b[0mpy4j\u001b[0m\u001b[0;34m.\u001b[0m\u001b[0mprotocol\u001b[0m\u001b[0;34m.\u001b[0m\u001b[0mPy4JJavaError\u001b[0m \u001b[0;32mas\u001b[0m \u001b[0me\u001b[0m\u001b[0;34m:\u001b[0m\u001b[0;34m\u001b[0m\u001b[0m\n\u001b[1;32m     65\u001b[0m             \u001b[0ms\u001b[0m \u001b[0;34m=\u001b[0m \u001b[0me\u001b[0m\u001b[0;34m.\u001b[0m\u001b[0mjava_exception\u001b[0m\u001b[0;34m.\u001b[0m\u001b[0mtoString\u001b[0m\u001b[0;34m(\u001b[0m\u001b[0;34m)\u001b[0m\u001b[0;34m\u001b[0m\u001b[0m\n",
      "\u001b[0;32m~/spark-2.1.1-bin-hadoop2.7/python/lib/py4j-0.10.4-src.zip/py4j/protocol.py\u001b[0m in \u001b[0;36mget_return_value\u001b[0;34m(answer, gateway_client, target_id, name)\u001b[0m\n\u001b[1;32m    317\u001b[0m                 raise Py4JJavaError(\n\u001b[1;32m    318\u001b[0m                     \u001b[0;34m\"An error occurred while calling {0}{1}{2}.\\n\"\u001b[0m\u001b[0;34m.\u001b[0m\u001b[0;34m\u001b[0m\u001b[0m\n\u001b[0;32m--> 319\u001b[0;31m                     format(target_id, \".\", name), value)\n\u001b[0m\u001b[1;32m    320\u001b[0m             \u001b[0;32melse\u001b[0m\u001b[0;34m:\u001b[0m\u001b[0;34m\u001b[0m\u001b[0m\n\u001b[1;32m    321\u001b[0m                 raise Py4JError(\n",
      "\u001b[0;31mPy4JJavaError\u001b[0m: An error occurred while calling z:org.apache.spark.api.python.PythonRDD.collectAndServe.\n: org.apache.spark.SparkException: Job aborted due to stage failure: Task 0 in stage 965.0 failed 1 times, most recent failure: Lost task 0.0 in stage 965.0 (TID 2536, localhost, executor driver): org.apache.spark.api.python.PythonException: Traceback (most recent call last):\n  File \"/home/ubuntu/spark-2.1.1-bin-hadoop2.7/python/lib/pyspark.zip/pyspark/worker.py\", line 174, in main\n    process()\n  File \"/home/ubuntu/spark-2.1.1-bin-hadoop2.7/python/lib/pyspark.zip/pyspark/worker.py\", line 169, in process\n    serializer.dump_stream(func(split_index, iterator), outfile)\n  File \"/home/ubuntu/spark-2.1.1-bin-hadoop2.7/python/lib/pyspark.zip/pyspark/serializers.py\", line 268, in dump_stream\n    vs = list(itertools.islice(iterator, batch))\n  File \"/home/ubuntu/spark-2.1.1-bin-hadoop2.7/python/pyspark/rdd.py\", line 1949, in <lambda>\n    map_values_fn = lambda kv: (kv[0], f(kv[1]))\n  File \"<ipython-input-61-5cc80d667d44>\", line 5, in weighted_mean\n  File \"/home/ubuntu/.local/lib/python3.5/site-packages/numpy/core/fromnumeric.py\", line 1869, in sum\n    res = _sum_(a)\nTypeError: unsupported operand type(s) for +: 'int' and 'str'\n\n\tat org.apache.spark.api.python.PythonRunner$$anon$1.read(PythonRDD.scala:193)\n\tat org.apache.spark.api.python.PythonRunner$$anon$1.<init>(PythonRDD.scala:234)\n\tat org.apache.spark.api.python.PythonRunner.compute(PythonRDD.scala:152)\n\tat org.apache.spark.api.python.PythonRDD.compute(PythonRDD.scala:63)\n\tat org.apache.spark.rdd.RDD.computeOrReadCheckpoint(RDD.scala:323)\n\tat org.apache.spark.rdd.RDD.iterator(RDD.scala:287)\n\tat org.apache.spark.scheduler.ResultTask.runTask(ResultTask.scala:87)\n\tat org.apache.spark.scheduler.Task.run(Task.scala:99)\n\tat org.apache.spark.executor.Executor$TaskRunner.run(Executor.scala:322)\n\tat java.util.concurrent.ThreadPoolExecutor.runWorker(ThreadPoolExecutor.java:1149)\n\tat java.util.concurrent.ThreadPoolExecutor$Worker.run(ThreadPoolExecutor.java:624)\n\tat java.lang.Thread.run(Thread.java:748)\n\nDriver stacktrace:\n\tat org.apache.spark.scheduler.DAGScheduler.org$apache$spark$scheduler$DAGScheduler$$failJobAndIndependentStages(DAGScheduler.scala:1435)\n\tat org.apache.spark.scheduler.DAGScheduler$$anonfun$abortStage$1.apply(DAGScheduler.scala:1423)\n\tat org.apache.spark.scheduler.DAGScheduler$$anonfun$abortStage$1.apply(DAGScheduler.scala:1422)\n\tat scala.collection.mutable.ResizableArray$class.foreach(ResizableArray.scala:59)\n\tat scala.collection.mutable.ArrayBuffer.foreach(ArrayBuffer.scala:48)\n\tat org.apache.spark.scheduler.DAGScheduler.abortStage(DAGScheduler.scala:1422)\n\tat org.apache.spark.scheduler.DAGScheduler$$anonfun$handleTaskSetFailed$1.apply(DAGScheduler.scala:802)\n\tat org.apache.spark.scheduler.DAGScheduler$$anonfun$handleTaskSetFailed$1.apply(DAGScheduler.scala:802)\n\tat scala.Option.foreach(Option.scala:257)\n\tat org.apache.spark.scheduler.DAGScheduler.handleTaskSetFailed(DAGScheduler.scala:802)\n\tat org.apache.spark.scheduler.DAGSchedulerEventProcessLoop.doOnReceive(DAGScheduler.scala:1650)\n\tat org.apache.spark.scheduler.DAGSchedulerEventProcessLoop.onReceive(DAGScheduler.scala:1605)\n\tat org.apache.spark.scheduler.DAGSchedulerEventProcessLoop.onReceive(DAGScheduler.scala:1594)\n\tat org.apache.spark.util.EventLoop$$anon$1.run(EventLoop.scala:48)\n\tat org.apache.spark.scheduler.DAGScheduler.runJob(DAGScheduler.scala:628)\n\tat org.apache.spark.SparkContext.runJob(SparkContext.scala:1925)\n\tat org.apache.spark.SparkContext.runJob(SparkContext.scala:1938)\n\tat org.apache.spark.SparkContext.runJob(SparkContext.scala:1951)\n\tat org.apache.spark.SparkContext.runJob(SparkContext.scala:1965)\n\tat org.apache.spark.rdd.RDD$$anonfun$collect$1.apply(RDD.scala:936)\n\tat org.apache.spark.rdd.RDDOperationScope$.withScope(RDDOperationScope.scala:151)\n\tat org.apache.spark.rdd.RDDOperationScope$.withScope(RDDOperationScope.scala:112)\n\tat org.apache.spark.rdd.RDD.withScope(RDD.scala:362)\n\tat org.apache.spark.rdd.RDD.collect(RDD.scala:935)\n\tat org.apache.spark.api.python.PythonRDD$.collectAndServe(PythonRDD.scala:453)\n\tat org.apache.spark.api.python.PythonRDD.collectAndServe(PythonRDD.scala)\n\tat sun.reflect.NativeMethodAccessorImpl.invoke0(Native Method)\n\tat sun.reflect.NativeMethodAccessorImpl.invoke(NativeMethodAccessorImpl.java:62)\n\tat sun.reflect.DelegatingMethodAccessorImpl.invoke(DelegatingMethodAccessorImpl.java:43)\n\tat java.lang.reflect.Method.invoke(Method.java:498)\n\tat py4j.reflection.MethodInvoker.invoke(MethodInvoker.java:244)\n\tat py4j.reflection.ReflectionEngine.invoke(ReflectionEngine.java:357)\n\tat py4j.Gateway.invoke(Gateway.java:280)\n\tat py4j.commands.AbstractCommand.invokeMethod(AbstractCommand.java:132)\n\tat py4j.commands.CallCommand.execute(CallCommand.java:79)\n\tat py4j.GatewayConnection.run(GatewayConnection.java:214)\n\tat java.lang.Thread.run(Thread.java:748)\nCaused by: org.apache.spark.api.python.PythonException: Traceback (most recent call last):\n  File \"/home/ubuntu/spark-2.1.1-bin-hadoop2.7/python/lib/pyspark.zip/pyspark/worker.py\", line 174, in main\n    process()\n  File \"/home/ubuntu/spark-2.1.1-bin-hadoop2.7/python/lib/pyspark.zip/pyspark/worker.py\", line 169, in process\n    serializer.dump_stream(func(split_index, iterator), outfile)\n  File \"/home/ubuntu/spark-2.1.1-bin-hadoop2.7/python/lib/pyspark.zip/pyspark/serializers.py\", line 268, in dump_stream\n    vs = list(itertools.islice(iterator, batch))\n  File \"/home/ubuntu/spark-2.1.1-bin-hadoop2.7/python/pyspark/rdd.py\", line 1949, in <lambda>\n    map_values_fn = lambda kv: (kv[0], f(kv[1]))\n  File \"<ipython-input-61-5cc80d667d44>\", line 5, in weighted_mean\n  File \"/home/ubuntu/.local/lib/python3.5/site-packages/numpy/core/fromnumeric.py\", line 1869, in sum\n    res = _sum_(a)\nTypeError: unsupported operand type(s) for +: 'int' and 'str'\n\n\tat org.apache.spark.api.python.PythonRunner$$anon$1.read(PythonRDD.scala:193)\n\tat org.apache.spark.api.python.PythonRunner$$anon$1.<init>(PythonRDD.scala:234)\n\tat org.apache.spark.api.python.PythonRunner.compute(PythonRDD.scala:152)\n\tat org.apache.spark.api.python.PythonRDD.compute(PythonRDD.scala:63)\n\tat org.apache.spark.rdd.RDD.computeOrReadCheckpoint(RDD.scala:323)\n\tat org.apache.spark.rdd.RDD.iterator(RDD.scala:287)\n\tat org.apache.spark.scheduler.ResultTask.runTask(ResultTask.scala:87)\n\tat org.apache.spark.scheduler.Task.run(Task.scala:99)\n\tat org.apache.spark.executor.Executor$TaskRunner.run(Executor.scala:322)\n\tat java.util.concurrent.ThreadPoolExecutor.runWorker(ThreadPoolExecutor.java:1149)\n\tat java.util.concurrent.ThreadPoolExecutor$Worker.run(ThreadPoolExecutor.java:624)\n\t... 1 more\n"
     ]
    }
   ],
   "source": [
    "from numpy import sum\n",
    "\n",
    "def weighted_mean(df_Level):\n",
    "    vals = list(df_Level)  # save the values from the iterator\n",
    "    sum_of_weights = sum(tup[1] for tup in df_Level)\n",
    "    return sum(1. * tup[0] * tup[1] / sum_of_weights for tup in df_Level)\n",
    "\n",
    "df.rdd.map(\n",
    "    lambda x: (x[0], tuple(x[1:]))  # reshape to (key, val) so grouping could work\n",
    ").groupByKey().mapValues(\n",
    "    weighted_mean\n",
    ").collect()"
   ]
  },
  {
   "cell_type": "code",
   "execution_count": null,
   "metadata": {},
   "outputs": [],
   "source": []
  },
  {
   "cell_type": "code",
   "execution_count": null,
   "metadata": {},
   "outputs": [],
   "source": []
  },
  {
   "cell_type": "code",
   "execution_count": null,
   "metadata": {},
   "outputs": [],
   "source": []
  },
  {
   "cell_type": "code",
   "execution_count": null,
   "metadata": {},
   "outputs": [],
   "source": []
  },
  {
   "cell_type": "code",
   "execution_count": null,
   "metadata": {},
   "outputs": [],
   "source": []
  },
  {
   "cell_type": "code",
   "execution_count": null,
   "metadata": {},
   "outputs": [],
   "source": []
  },
  {
   "cell_type": "code",
   "execution_count": null,
   "metadata": {},
   "outputs": [],
   "source": []
  },
  {
   "cell_type": "code",
   "execution_count": null,
   "metadata": {},
   "outputs": [],
   "source": []
  },
  {
   "cell_type": "code",
   "execution_count": null,
   "metadata": {},
   "outputs": [],
   "source": []
  }
 ],
 "metadata": {
  "kernelspec": {
   "display_name": "Python 3",
   "language": "python",
   "name": "python3"
  },
  "language_info": {
   "codemirror_mode": {
    "name": "ipython",
    "version": 3
   },
   "file_extension": ".py",
   "mimetype": "text/x-python",
   "name": "python",
   "nbconvert_exporter": "python",
   "pygments_lexer": "ipython3",
   "version": "3.5.2"
  }
 },
 "nbformat": 4,
 "nbformat_minor": 2
}
