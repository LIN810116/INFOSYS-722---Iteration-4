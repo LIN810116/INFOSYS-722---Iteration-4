{
 "cells": [
  {
   "cell_type": "code",
   "execution_count": 1,
   "metadata": {},
   "outputs": [],
   "source": [
    "# Section must be included at the beginning of each new notebook. Remember to change the app name. \n",
    "# If you're using VirtualBox, change the below to '/home/user/spark-2.1.1-bin-hadoop2.7'\n",
    "import findspark\n",
    "findspark.init('/home/ubuntu/spark-2.1.1-bin-hadoop2.7')\n",
    "import pyspark\n",
    "from pyspark.sql import SparkSession\n",
    "spark = SparkSession.builder.appName('basics').getOrCreate()"
   ]
  },
  {
   "cell_type": "code",
   "execution_count": 7,
   "metadata": {},
   "outputs": [],
   "source": [
    "# Let's read in the data. If you open the dataset, you'll find that each column has a header. We specify that by stating that header=True.\n",
    "# To make our lives easier, we can also use 'inferSchema' when importing CSVs. This automatically detects data types.\n",
    "# If you would like to manually change data types, refer to this article: https://medium.com/@mrpowers/adding-structtype-columns-to-spark-dataframes-b44125409803\n",
    "df = spark.read.csv('marineLife(I4).csv',header=True,inferSchema=True)"
   ]
  },
  {
   "cell_type": "code",
   "execution_count": 8,
   "metadata": {},
   "outputs": [
    {
     "name": "stdout",
     "output_type": "stream",
     "text": [
      "+----------+-----------+-----------------+------------+-----------+-----------+--------------------+---------+---------+\n",
      "| SpeciesID|      Class|            Order|      Family|      Genus|    Species|    Scientific names|WMostLong|EMostLong|\n",
      "+----------+-----------+-----------------+------------+-----------+-----------+--------------------+---------+---------+\n",
      "| Fis-29581|Actinopteri|      Perciformes|Acanthuridae| Acanthurus|  monroviae|Acanthurus monroviae|       NA|       NA|\n",
      "| Fis-26602|Actinopteri|Pleuronectiformes|   Achiridae|  Trinectes|paulistanus|Trinectes paulist...|      -55|      -30|\n",
      "| Fis-27804|Actinopteri|Pleuronectiformes|   Achiridae|    Achirus| mazatlanus|  Achirus mazatlanus|     -120|      -70|\n",
      "| Fis-28886|Actinopteri|Pleuronectiformes|   Achiridae|  Trinectes| fimbriatus|Trinectes fimbriatus|       NA|       NA|\n",
      "| Fis-28885|Actinopteri|Pleuronectiformes|   Achiridae|    Achirus|     scutum|      Achirus scutum|       NA|       NA|\n",
      "| Fis-28883|Actinopteri|Pleuronectiformes|   Achiridae|    Achirus|klunzingeri| Achirus klunzingeri|       NA|       NA|\n",
      "| Fis-28888|Actinopteri|Pleuronectiformes|   Achiridae|  Trinectes|fonsecensis|Trinectes fonsece...|       NA|       NA|\n",
      "| Fis-25037|Actinopteri|Pleuronectiformes|   Achiridae|  Trinectes|  maculatus| Trinectes maculatus|      -79|      -74|\n",
      "|Fis-115342|Actinopteri|Pleuronectiformes|   Achiridae|Gymnachirus|      melas|   Gymnachirus melas|      -98|      -73|\n",
      "| Fis-28887|Actinopteri|Pleuronectiformes|   Achiridae|  Trinectes|fluviatilis|Trinectes fluviat...|       NA|       NA|\n",
      "+----------+-----------+-----------------+------------+-----------+-----------+--------------------+---------+---------+\n",
      "only showing top 10 rows\n",
      "\n"
     ]
    }
   ],
   "source": [
    "# The show method allows you visualise DataFrames in a tabular format. \n",
    "df.show(10)"
   ]
  },
  {
   "cell_type": "code",
   "execution_count": null,
   "metadata": {},
   "outputs": [],
   "source": []
  }
 ],
 "metadata": {
  "kernelspec": {
   "display_name": "Python 3",
   "language": "python",
   "name": "python3"
  },
  "language_info": {
   "codemirror_mode": {
    "name": "ipython",
    "version": 3
   },
   "file_extension": ".py",
   "mimetype": "text/x-python",
   "name": "python",
   "nbconvert_exporter": "python",
   "pygments_lexer": "ipython3",
   "version": "3.5.2"
  }
 },
 "nbformat": 4,
 "nbformat_minor": 2
}
